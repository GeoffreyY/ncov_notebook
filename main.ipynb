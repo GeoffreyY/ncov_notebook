{
 "cells": [
  {
   "cell_type": "code",
   "execution_count": 1,
   "metadata": {},
   "outputs": [],
   "source": [
    "import numpy as np\n",
    "from scipy import stats\n",
    "from scipy.stats import nbinom\n",
    "import matplotlib.pyplot as plt"
   ]
  },
  {
   "cell_type": "code",
   "execution_count": 2,
   "metadata": {},
   "outputs": [],
   "source": [
    "# Parameters\n",
    "\n",
    "# The number of oversea cases\n",
    "OVERSEA_CASES = 8\n",
    "# The daily number of international travellers out of WuHan's TianHe airport\n",
    "# value of 3301 taken from Imperials's report\n",
    "DAILY_OUTBOUND = 3301\n",
    "# Catchement size of TienHe airport\n",
    "# In other words how many people does the airport serve\n",
    "# or the population of WuHan\n",
    "# 11.08 million from 2018 official statistics, used by HKU\n",
    "# CATCHEMENT = 11_080_000\n",
    "# 19 million estimated population of WuHan metropolitan area, used by Imperial\n",
    "CATCHEMENT = 19_000_000\n",
    "# Detection window, how long from infection to hospitalized\n",
    "# estimated incubation period of 6 days + 4 days of travelling =\n",
    "DETECTION_WINDOW = 10"
   ]
  },
  {
   "cell_type": "code",
   "execution_count": 3,
   "metadata": {},
   "outputs": [],
   "source": [
    "# probability that a random person in WuHan travels international on a given day\n",
    "daily_international_probability = DAILY_OUTBOUND / CATCHEMENT\n",
    "# probaility an infected person travels internationally while infected (before hospitalized)\n",
    "p = daily_international_probability * DETECTION_WINDOW\n",
    "k = OVERSEA_CASES"
   ]
  },
  {
   "cell_type": "code",
   "execution_count": 4,
   "metadata": {},
   "outputs": [
    {
     "name": "stdout",
     "output_type": "stream",
     "text": [
      "native estimate: 4604\n"
     ]
    }
   ],
   "source": [
    "print(\"native estimate: %i\" % (OVERSEA_CASES / p))"
   ]
  },
  {
   "cell_type": "code",
   "execution_count": 5,
   "metadata": {},
   "outputs": [
    {
     "name": "stdout",
     "output_type": "stream",
     "text": [
      "mean: 4596\n"
     ]
    }
   ],
   "source": [
    "# we can model the total number of cases in wuhan\n",
    "# as a negative binomial distribution in terms of oversea cases\n",
    "# see Imperial's report for more\n",
    "mean, var, skew, kurt = nbinom.stats(k, p, moments='mvsk')\n",
    "print(\"mean: %i\" % mean)"
   ]
  },
  {
   "cell_type": "code",
   "execution_count": 6,
   "metadata": {},
   "outputs": [
    {
     "name": "stdout",
     "output_type": "stream",
     "text": [
      "95% CI: 1982 - 8290\n"
     ]
    }
   ],
   "source": [
    "# 95% confidence interval\n",
    "min_x, max_x = nbinom.interval(0.95, k, p)\n",
    "print(\"95% CI: {:0.0f} - {:0.0f}\".format(min_x, max_x))"
   ]
  },
  {
   "cell_type": "code",
   "execution_count": 7,
   "metadata": {},
   "outputs": [],
   "source": [
    "# we're only interested in the 95% CI, and only graph this range\n",
    "x = np.arange(min_x, max_x)"
   ]
  },
  {
   "cell_type": "code",
   "execution_count": 8,
   "metadata": {},
   "outputs": [
    {
     "name": "stdout",
     "output_type": "stream",
     "text": [
      "mode: 4022.0\n"
     ]
    }
   ],
   "source": [
    "# find the mode\n",
    "mode = max(x, key=lambda x: nbinom.pmf(x, k, p))\n",
    "print(\"mode:\", mode)"
   ]
  },
  {
   "cell_type": "code",
   "execution_count": 9,
   "metadata": {},
   "outputs": [
    {
     "data": {
      "image/png": "[encoded data removed]",
      "text/plain": [
       "<Figure size 432x288 with 1 Axes>"
      ]
     },
     "metadata": {
      "needs_background": "light"
     },
     "output_type": "display_data"
    }
   ],
   "source": [
    "# graph and save the plot\n",
    "fig, ax = plt.subplots(1, 1)\n",
    "ax.plot(x, nbinom.pmf(x, k, p), 'ko', ms=1)\n",
    "ax.vlines(mean, 0, nbinom.pmf(int(mean), k, p),\n",
    "          color='r', lw=2, label='mean: %i' % mean)\n",
    "ax.vlines(mode, 0, nbinom.pmf(int(mode), k, p),\n",
    "          color='b', lw=2, label='mode: %i' % mode)\n",
    "ax.annotate(\"%i\" % min_x, xy=(min_x, nbinom.pmf(\n",
    "    int(min_x), k, p)-.00001), ha='center', va='top')\n",
    "ax.annotate(\"%i\" % max_x, xy=(\n",
    "    max_x, nbinom.pmf(int(max_x), k, p)-.00001), ha='center', va='top')\n",
    "\n",
    "# add info to legend if you wish\n",
    "# ax.vlines([], 0, 0, alpha=0, label=\"oversea cases: %i\" % OVERSEA_CASES)\n",
    "# ax.vlines([], 0, 0, alpha=0, label=\"daily outbound: %i\" % DAILY_OUTBOUND)\n",
    "# ax.vlines([], 0, 0, alpha=0, label=f\"population: {CATCHEMENT:,}\")\n",
    "# ax.vlines([], 0, 0, alpha=0, label=\"detection window: %i\" % DETECTION_WINDOW)\n",
    "\n",
    "ax.legend(loc='upper left')\n",
    "ax.set_ylim(bottom=0)\n",
    "ax.set_xlim(left=0)\n",
    "plt.savefig(\"pic.png\")\n",
    "plt.show()"
   ]
  }
 ],
 "metadata": {
  "kernelspec": {
   "display_name": "Python 3",
   "language": "python",
   "name": "python3"
  },
  "language_info": {
   "codemirror_mode": {
    "name": "ipython",
    "version": 3
   },
   "file_extension": ".py",
   "mimetype": "text/x-python",
   "name": "python",
   "nbconvert_exporter": "python",
   "pygments_lexer": "ipython3",
   "version": "3.7.4"
  }
 },
 "nbformat": 4,
 "nbformat_minor": 4
}
